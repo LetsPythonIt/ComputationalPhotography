{
 "cells": [
  {
   "cell_type": "markdown",
   "metadata": {},
   "source": [
    "# HOG & SVM for digit Classification"
   ]
  },
  {
   "cell_type": "markdown",
   "metadata": {},
   "source": [
    "### Introduction\n",
    "*In this notebook, I am trying to classify digits from MNIST digit dataset using SVM which is trained using HOG Features.*"
   ]
  },
  {
   "cell_type": "markdown",
   "metadata": {},
   "source": [
    "### Step 1: Importing Necessary Packages"
   ]
  },
  {
   "cell_type": "code",
   "execution_count": 22,
   "metadata": {},
   "outputs": [],
   "source": [
    "import cv2\n",
    "import os\n",
    "import tqdm\n",
    "import pickle\n",
    "import numpy as np\n",
    "from mnist import MNIST\n",
    "import matplotlib.pyplot as plt\n",
    "from sklearn import svm"
   ]
  },
  {
   "cell_type": "markdown",
   "metadata": {},
   "source": [
    "### Step 2: Structuring HOG Descriptor"
   ]
  },
  {
   "cell_type": "code",
   "execution_count": 23,
   "metadata": {},
   "outputs": [],
   "source": [
    "def initializeHog():\n",
    "    # Initializing hog parameters\n",
    "    winSize = (28,28)\n",
    "    blockSize = (8,8)\n",
    "    blockStride = (4,4)\n",
    "    cellSize = (4,4)\n",
    "    nbins = 9\n",
    "    # derivAperture = -1\n",
    "    # winSigma = -1\n",
    "    # histogramNormType = 1\n",
    "    # L2HysThreshold = 0.2\n",
    "    # gammaCorrection = False\n",
    "    # nlevels = 64\n",
    "    # signedGradient = False\n",
    "    hog = cv2.HOGDescriptor(winSize, blockSize, blockStride, cellSize, nbins)\n",
    "    return hog\n",
    "\n",
    "def getHOGdescriptor(path, test=False, samples=200, startIndex=0):\n",
    "    # By default, process descriptors for traning dataset, otherwise test dataset\n",
    "    \n",
    "    mndata = MNIST(path)\n",
    "    \n",
    "    if test:\n",
    "        images, labels = mndata.load_testing()\n",
    "    else:\n",
    "        images, labels = mndata.load_training()\n",
    "        samples = max(samples, len(images))# Train on all data\n",
    "    \n",
    "    # Convert to numpy arrays and reshape all images\n",
    "    images = [np.array(image, dtype=np.uint8).reshape(28,28) for image in images]; \n",
    "    print(\"Converted {} Images to Numpy Arrays . . .\".format(len(images)))\n",
    "    \n",
    "    print(\"Calculating HOG Features . . .\")\n",
    "    \n",
    "    HOG_FeatureVectors = []; givenlabels = [] # Corresponding to each feature vector\n",
    "    hog = initializeHog() # Initialize HOG\n",
    "    \n",
    "    for i in tqdm.tqdm(range(len(images[startIndex:samples]))):\n",
    "        \n",
    "        image = images[i]; label = labels[i];\n",
    "        \n",
    "        descriptor = hog.compute(image)\n",
    "        HOG_FeatureVectors.append(descriptor.reshape(-1))\n",
    "        givenlabels.append(label)\n",
    "    \n",
    "    print('Returned total descriptors: {} & total labels: {}'.format(len(HOG_FeatureVectors), len(givenlabels)))\n",
    "    \n",
    "    return HOG_FeatureVectors, givenlabels"
   ]
  },
  {
   "cell_type": "markdown",
   "metadata": {},
   "source": [
    "### Step 3: Training our model using Support Vector Machines"
   ]
  },
  {
   "cell_type": "code",
   "execution_count": 18,
   "metadata": {},
   "outputs": [],
   "source": [
    "def trainSVM(path):\n",
    "    HOG, Labels = getHOGdescriptor(path, False)\n",
    "    \n",
    "    # SVM Model\n",
    "    model = svm.SVC(kernel=\"rbf\", C=30.0, gamma='scale')\n",
    "    model.fit(HOG, Labels)\n",
    "    \n",
    "    return model"
   ]
  },
  {
   "cell_type": "code",
   "execution_count": 24,
   "metadata": {},
   "outputs": [
    {
     "name": "stderr",
     "output_type": "stream",
     "text": [
      "  5%|▌         | 3113/60000 [00:00<00:01, 31129.21it/s]"
     ]
    },
    {
     "name": "stdout",
     "output_type": "stream",
     "text": [
      "Converted 60000 Images to Numpy Arrays . . .\n",
      "Calculating HOG Features . . .\n"
     ]
    },
    {
     "name": "stderr",
     "output_type": "stream",
     "text": [
      "100%|██████████| 60000/60000 [00:02<00:00, 24753.58it/s]\n"
     ]
    },
    {
     "name": "stdout",
     "output_type": "stream",
     "text": [
      "Returned total descriptors: 60000 & total labels: 60000\n"
     ]
    }
   ],
   "source": [
    "datasetPath = \"../CV_Datasets/MNIST/Digits\"\n",
    "model = trainSVM(datasetPath)"
   ]
  },
  {
   "cell_type": "markdown",
   "metadata": {},
   "source": [
    "### Step 4: Testing our model"
   ]
  },
  {
   "cell_type": "code",
   "execution_count": 27,
   "metadata": {},
   "outputs": [
    {
     "name": "stderr",
     "output_type": "stream",
     "text": [
      "100%|██████████| 1000/1000 [00:00<00:00, 29986.52it/s]"
     ]
    },
    {
     "name": "stdout",
     "output_type": "stream",
     "text": [
      "Converted 10000 Images to Numpy Arrays . . .\n",
      "Calculating HOG Features . . .\n",
      "Returned total descriptors: 1000 & total labels: 1000\n",
      "Evaluating Model . . .\n"
     ]
    },
    {
     "name": "stderr",
     "output_type": "stream",
     "text": [
      "\n"
     ]
    },
    {
     "name": "stdout",
     "output_type": "stream",
     "text": [
      "Model accuracy: 99.1\n",
      "Model saved as : modelSVM99.sav\n"
     ]
    }
   ],
   "source": [
    "def testModel(path, model, threshold=0.95, name=\"modelSVM\"):\n",
    "    HOG, Labels = getHOGdescriptor(path, True, 1000) # Test on thousand images\n",
    "    print(\"Evaluating Model . . .\")\n",
    "    result = model.score(HOG, Labels)\n",
    "    print(\"Model accuracy: {}%\".format(result*100))\n",
    "    \n",
    "    if result >= threshold:\n",
    "        name = name + str(result*100)[:2] + \".sav\"\n",
    "        pickle.dump(model, open(name, 'wb'))\n",
    "        print(\"Model saved as : {}\".format(name))\n",
    "        \n",
    "testModel(datasetPath, model, 0.90)"
   ]
  },
  {
   "cell_type": "markdown",
   "metadata": {},
   "source": [
    "### Step 5: Display Results"
   ]
  },
  {
   "cell_type": "code",
   "execution_count": 41,
   "metadata": {},
   "outputs": [
    {
     "data": {
      "image/png": "[encoded data removed]",
      "text/plain": [
       "<Figure size 720x720 with 20 Axes>"
      ]
     },
     "metadata": {
      "needs_background": "light"
     },
     "output_type": "display_data"
    }
   ],
   "source": [
    "def displayModelResults(path, model, no_of_samples=20):\n",
    "    \n",
    "    mndata = MNIST(path)\n",
    "    images, labels = mndata.load_testing()\n",
    "    images = [np.array(image, dtype=np.uint8).reshape(28,28) for image in images]; # Convert to numpy arrays and reshape all images\n",
    "    \n",
    "    # Display Dataset\n",
    "    plt.figure(figsize=[10,10])\n",
    "    cols = no_of_samples\n",
    "    rows = 1\n",
    "    \n",
    "    hog = initializeHog()\n",
    "\n",
    "    for i in range(int(cols*rows)):\n",
    "        image = np.array(images[i]); trueLabel = labels[i]\n",
    "        descriptor = hog.compute(image)\n",
    "        predictedLabel = model.predict(descriptor.reshape(1,-1))[0]\n",
    "        if (predictedLabel == trueLabel):\n",
    "            color = 'b'\n",
    "        else:\n",
    "            color = 'r'\n",
    "\n",
    "        plt.subplot(rows,cols,i+1);\n",
    "        plt.imshow(image, cmap=\"gray\");\n",
    "        titleObj = plt.title(str(predictedLabel));\n",
    "        plt.setp(titleObj, color=color) \n",
    "        plt.axis('off')\n",
    "    return\n",
    "\n",
    "displayModelResults(datasetPath, model)"
   ]
  },
  {
   "cell_type": "markdown",
   "metadata": {},
   "source": [
    "### Load Saved Model"
   ]
  },
  {
   "cell_type": "code",
   "execution_count": 21,
   "metadata": {},
   "outputs": [],
   "source": [
    "# model = pickle.load(open(\"modelSVM970.sav\", 'rb')) # Replace ... with file name of the model"
   ]
  }
 ],
 "metadata": {
  "kernelspec": {
   "display_name": "Python 3",
   "language": "python",
   "name": "python3"
  },
  "language_info": {
   "codemirror_mode": {
    "name": "ipython",
    "version": 3
   },
   "file_extension": ".py",
   "mimetype": "text/x-python",
   "name": "python",
   "nbconvert_exporter": "python",
   "pygments_lexer": "ipython3",
   "version": "3.7.7"
  }
 },
 "nbformat": 4,
 "nbformat_minor": 4
}
